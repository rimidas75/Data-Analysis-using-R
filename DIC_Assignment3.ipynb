{
 "cells": [
  {
   "cell_type": "markdown",
   "metadata": {},
   "source": [
    "##### Installing packages"
   ]
  },
  {
   "cell_type": "code",
   "execution_count": null,
   "metadata": {
    "collapsed": true
   },
   "outputs": [],
   "source": [
    "install.packages('twitteR',repos='http://cran.us.r-project.org')\n",
    "install.packages('sp',repos='http://cran.us.r-project.org')\n",
    "install.packages('maps',repos='http://cran.us.r-project.org')\n",
    "install.packages(\"sqldf\", repos = \"https://cran.r-project.org\")\n",
    "install.packages(\"RSQLite\", repos = \"https://cran.r-project.org\")"
   ]
  },
  {
   "cell_type": "markdown",
   "metadata": {},
   "source": [
    "###### Calling libraries"
   ]
  },
  {
   "cell_type": "code",
   "execution_count": null,
   "metadata": {
    "collapsed": true
   },
   "outputs": [],
   "source": [
    "library(twitteR)\n",
    "library(maps)\n",
    "library(RSQLite)\n",
    "library(sqldf)\n",
    "library(ggplot2)\n",
    "library(ggmap)\n",
    "library(mapdata)\n",
    "library(plyr)"
   ]
  },
  {
   "cell_type": "markdown",
   "metadata": {},
   "source": [
    "##### Twitter authentication"
   ]
  },
  {
   "cell_type": "code",
   "execution_count": null,
   "metadata": {
    "collapsed": true
   },
   "outputs": [],
   "source": [
    "api_key <- \"wgv8Rsu9oTVQDJodUQDK6khI4\"\n",
    "api_secret <- \"hhkweXXpK61mZ0blGFcNdgbB5ENnXfK2hYJngpcwi9EWrNWAoI\"\n",
    " \n",
    "access_token <- \"771375033264513024-JZP8Bdbz7TXmm5MgFQTi21YtnUfZQL4\"\n",
    " \n",
    "access_token_secret <- \"qIGbyUMy3vNI0LHhPfO4huLump1Jna8iy22zKzOHClEnY\"\n",
    " \n",
    "setup_twitter_oauth(api_key,api_secret,access_token,access_token_secret)"
   ]
  },
  {
   "cell_type": "markdown",
   "metadata": {},
   "source": [
    "##### Take any location(set of latitude & longitude/ name of location) nd get top 10 trending topics in that location"
   ]
  },
  {
   "cell_type": "code",
   "execution_count": null,
   "metadata": {
    "collapsed": true
   },
   "outputs": [],
   "source": [
    "#location = \"23.55,82.5\"\n",
    "location = \"Rourkela\"\n",
    "geo_code = geocode(location)\n",
    "close_trends=closestTrendLocations(geo_code$lat, geo_code$lon)\n",
    "woeid = close_trends$woeid\n",
    "t1 <- getTrends(woeid)\n",
    "print(paste('The top 10 trending topics in ',location, 'are :'))\n",
    "head(t1[[1]], n=10)"
   ]
  }
 ],
 "metadata": {
  "kernelspec": {
   "display_name": "R",
   "language": "R",
   "name": "ir"
  },
  "language_info": {
   "codemirror_mode": "r",
   "file_extension": ".r",
   "mimetype": "text/x-r-source",
   "name": "R",
   "pygments_lexer": "r",
   "version": "3.3.2"
  }
 },
 "nbformat": 4,
 "nbformat_minor": 2
}
