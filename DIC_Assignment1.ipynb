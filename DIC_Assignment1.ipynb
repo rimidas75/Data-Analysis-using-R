{
 "cells": [
  {
   "cell_type": "markdown",
   "metadata": {},
   "source": [
    "#### Installing packges"
   ]
  },
  {
   "cell_type": "code",
   "execution_count": 1,
   "metadata": {
    "collapsed": false
   },
   "outputs": [
    {
     "name": "stdout",
     "output_type": "stream",
     "text": [
      "package 'twitteR' successfully unpacked and MD5 sums checked\n",
      "\n",
      "The downloaded binary packages are in\n",
      "\tC:\\Users\\RIMI\\AppData\\Local\\Temp\\RtmpeSb3km\\downloaded_packages\n",
      "package 'RSQLite' successfully unpacked and MD5 sums checked\n",
      "\n",
      "The downloaded binary packages are in\n",
      "\tC:\\Users\\RIMI\\AppData\\Local\\Temp\\RtmpeSb3km\\downloaded_packages\n"
     ]
    }
   ],
   "source": [
    "install.packages('twitteR',repos='http://cran.us.r-project.org')\n",
    "install.packages('RSQLite', repos = 'http://cran.us.r-project.org')"
   ]
  },
  {
   "cell_type": "markdown",
   "metadata": {},
   "source": [
    "##### Calling libraries"
   ]
  },
  {
   "cell_type": "code",
   "execution_count": 2,
   "metadata": {
    "collapsed": true
   },
   "outputs": [],
   "source": [
    "library(twitteR)\n",
    "library(RSQLite)"
   ]
  },
  {
   "cell_type": "markdown",
   "metadata": {},
   "source": [
    "#### Twitter Authentication"
   ]
  },
  {
   "cell_type": "code",
   "execution_count": 3,
   "metadata": {
    "collapsed": false
   },
   "outputs": [
    {
     "name": "stdout",
     "output_type": "stream",
     "text": [
      "[1] \"Using direct authentication\"\n"
     ]
    }
   ],
   "source": [
    "api_key <- \"wgv8Rsu9oTVQDJodUQDK6khI4\"\n",
    "api_secret <- \"hhkweXXpK61mZ0blGFcNdgbB5ENnXfK2hYJngpcwi9EWrNWAoI\"\n",
    " \n",
    "access_token <- \"771375033264513024-JZP8Bdbz7TXmm5MgFQTi21YtnUfZQL4\"\n",
    " \n",
    "access_token_secret <- \"qIGbyUMy3vNI0LHhPfO4huLump1Jna8iy22zKzOHClEnY\"\n",
    " \n",
    "setup_twitter_oauth(api_key,api_secret,access_token,access_token_secret)\n"
   ]
  },
  {
   "cell_type": "markdown",
   "metadata": {},
   "source": [
    "##### Search String varible"
   ]
  },
  {
   "cell_type": "code",
   "execution_count": 4,
   "metadata": {
    "collapsed": true
   },
   "outputs": [],
   "source": [
    "search_str = '#superbowl'"
   ]
  },
  {
   "cell_type": "markdown",
   "metadata": {},
   "source": [
    "##### Register db"
   ]
  },
  {
   "cell_type": "code",
   "execution_count": 7,
   "metadata": {
    "collapsed": true
   },
   "outputs": [],
   "source": [
    "sql_lite_file=tempfile()\n",
    "register_sqlite_backend(sql_lite_file)"
   ]
  },
  {
   "cell_type": "markdown",
   "metadata": {},
   "source": [
    "##### Search tweets with hashtag & store in db"
   ]
  },
  {
   "cell_type": "code",
   "execution_count": 9,
   "metadata": {
    "collapsed": false
   },
   "outputs": [
    {
     "data": {
      "text/html": [
       "TRUE"
      ],
      "text/latex": [
       "TRUE"
      ],
      "text/markdown": [
       "TRUE"
      ],
      "text/plain": [
       "[1] TRUE"
      ]
     },
     "metadata": {},
     "output_type": "display_data"
    }
   ],
   "source": [
    "\n",
    "tweets<-searchTwitter(search_str , geocode=NULL, n =100)\n",
    "store_tweets_db(tweets)"
   ]
  },
  {
   "cell_type": "markdown",
   "metadata": {},
   "source": [
    "##### Load data from db "
   ]
  },
  {
   "cell_type": "code",
   "execution_count": 10,
   "metadata": {
    "collapsed": false
   },
   "outputs": [
    {
     "data": {
      "text/html": [
       "200"
      ],
      "text/latex": [
       "200"
      ],
      "text/markdown": [
       "200"
      ],
      "text/plain": [
       "[1] 200"
      ]
     },
     "metadata": {},
     "output_type": "display_data"
    }
   ],
   "source": [
    "from_db=load_tweets_db()\n",
    "length(from_db)"
   ]
  },
  {
   "cell_type": "code",
   "execution_count": 11,
   "metadata": {
    "collapsed": true
   },
   "outputs": [],
   "source": [
    "# removing retweets\n",
    "rt_removed_tweets  <- strip_retweets(tweets,strip_manual=TRUE,strip_mt=TRUE)"
   ]
  },
  {
   "cell_type": "code",
   "execution_count": 12,
   "metadata": {
    "collapsed": false
   },
   "outputs": [
    {
     "data": {
      "text/html": [
       "<table>\n",
       "<thead><tr><th scope=col>text</th><th scope=col>favorited</th><th scope=col>favoriteCount</th><th scope=col>replyToSN</th><th scope=col>created</th><th scope=col>truncated</th><th scope=col>replyToSID</th><th scope=col>id</th><th scope=col>replyToUID</th><th scope=col>statusSource</th><th scope=col>screenName</th><th scope=col>retweetCount</th><th scope=col>isRetweet</th><th scope=col>retweeted</th><th scope=col>longitude</th><th scope=col>latitude</th></tr></thead>\n",
       "<tbody>\n",
       "\t<tr><td>Wow! \"@SofiAlvarezLop: En el #SuperBowl pasan muchas cosas...Escribí algunos datos para marketeros en @genwords :) https://t.co/iOmyvkvNu7\" </td><td>FALSE                                                                                                                                       </td><td>0                                                                                                                                           </td><td>NA                                                                                                                                          </td><td>2017-02-17 13:00:37                                                                                                                         </td><td>FALSE                                                                                                                                       </td><td>NA                                                                                                                                          </td><td>832575480293359616                                                                                                                          </td><td>NA                                                                                                                                          </td><td>&lt;a href=\"http://twitter.com/download/android\" rel=\"nofollow\"&gt;Twitter for Android&lt;/a&gt;                                            </td><td>rickyandreutti                                                                                                                              </td><td>0                                                                                                                                           </td><td>FALSE                                                                                                                                       </td><td>FALSE                                                                                                                                       </td><td>NA                                                                                                                                          </td><td>NA                                                                                                                                          </td></tr>\n",
       "\t<tr><td><span style=white-space:pre-wrap>Esta semana en #Resortera de @amandititita: ¿@ladygaga tuvo miedo de difundir ideales políticos en el #SuperBowl?… https://t.co/c3VyPy7lfz  </span></td><td>FALSE                                                                                                                                                                               </td><td>0                                                                                                                                                                                   </td><td>NA                                                                                                                                                                                  </td><td>2017-02-17 13:00:04                                                                                                                                                                 </td><td> TRUE                                                                                                                                                                               </td><td>NA                                                                                                                                                                                  </td><td>832575341638017024                                                                                                                                                                  </td><td>NA                                                                                                                                                                                  </td><td>&lt;a href=\"https://about.twitter.com/products/tweetdeck\" rel=\"nofollow\"&gt;TweetDeck&lt;/a&gt;                                                                                     </td><td><span style=white-space:pre-wrap>LaCapital_    </span>                                                                                                                              </td><td>0                                                                                                                                                                                   </td><td>FALSE                                                                                                                                                                               </td><td>FALSE                                                                                                                                                                               </td><td>NA                                                                                                                                                                                  </td><td>NA                                                                                                                                                                                  </td></tr>\n",
       "\t<tr><td><span style=white-space:pre-wrap>.@LewisLazare are we talking Chicago #SuperBowl babies? We are!! @ChicagoBearsFAM @PNCBank  https://t.co/DVtvpT1HfP                         </span></td><td>FALSE                                                                                                                                                                               </td><td>1                                                                                                                                                                                   </td><td>NA                                                                                                                                                                                  </td><td>2017-02-17 12:57:04                                                                                                                                                                 </td><td>FALSE                                                                                                                                                                               </td><td>NA                                                                                                                                                                                  </td><td>832574584549494787                                                                                                                                                                  </td><td>NA                                                                                                                                                                                  </td><td><span style=white-space:pre-wrap>&lt;a href=\"http://twitter.com/download/iphone\" rel=\"nofollow\"&gt;Twitter for iPhone&lt;/a&gt;  </span>                                            </td><td>saulboscanPNC                                                                                                                                                                       </td><td>0                                                                                                                                                                                   </td><td>FALSE                                                                                                                                                                               </td><td>FALSE                                                                                                                                                                               </td><td>NA                                                                                                                                                                                  </td><td>NA                                                                                                                                                                                  </td></tr>\n",
       "\t<tr><td><span style=white-space:pre-wrap>#superbowl porn interruption video hardcore hospital anime https://t.co/LgSV5PdjoU                                                          </span></td><td>FALSE                                                                                                                                                                               </td><td>0                                                                                                                                                                                   </td><td>NA                                                                                                                                                                                  </td><td>2017-02-17 12:56:15                                                                                                                                                                 </td><td>FALSE                                                                                                                                                                               </td><td>NA                                                                                                                                                                                  </td><td>832574382572711937                                                                                                                                                                  </td><td>NA                                                                                                                                                                                  </td><td><span style=white-space:pre-wrap>&lt;a href=\"http://twitter.com\" rel=\"nofollow\"&gt;Twitter Web Client&lt;/a&gt;                  </span>                                            </td><td><span style=white-space:pre-wrap>Psiu_iza      </span>                                                                                                                              </td><td>0                                                                                                                                                                                   </td><td>FALSE                                                                                                                                                                               </td><td>FALSE                                                                                                                                                                               </td><td>NA                                                                                                                                                                                  </td><td>NA                                                                                                                                                                                  </td></tr>\n",
       "\t<tr><td>#NFL #MVP 9 CARD LOT OF #AaronRodgers W/INSERT NO DUPES #Packers-CAL #9A https://t.co/abQoAjoj0T #SuperBowl #Forsale https://t.co/aV6zZWqEkb</td><td>FALSE                                                                                                                                       </td><td>0                                                                                                                                           </td><td>NA                                                                                                                                          </td><td>2017-02-17 12:52:01                                                                                                                         </td><td>FALSE                                                                                                                                       </td><td>NA                                                                                                                                          </td><td>832573313444626432                                                                                                                          </td><td>NA                                                                                                                                          </td><td><span style=white-space:pre-wrap>&lt;a href=\"https://dlvrit.com/\" rel=\"nofollow\"&gt;dlvr.it&lt;/a&gt;                            </span>    </td><td><span style=white-space:pre-wrap>Myong_Wisley  </span>                                                                                      </td><td>0                                                                                                                                           </td><td>FALSE                                                                                                                                       </td><td>FALSE                                                                                                                                       </td><td>NA                                                                                                                                          </td><td>NA                                                                                                                                          </td></tr>\n",
       "\t<tr><td><span style=white-space:pre-wrap>Lekker je weekend in met #ThisOnesForTheDonald playlist, deze had ze prima tijdens de #SuperBowl kunnen doen https://t.co/12WDk9VT4I        </span></td><td>FALSE                                                                                                                                                                               </td><td>0                                                                                                                                                                                   </td><td>NA                                                                                                                                                                                  </td><td>2017-02-17 12:51:17                                                                                                                                                                 </td><td>FALSE                                                                                                                                                                               </td><td>NA                                                                                                                                                                                  </td><td>832573132254875648                                                                                                                                                                  </td><td>NA                                                                                                                                                                                  </td><td><span style=white-space:pre-wrap>&lt;a href=\"http://twitter.com/download/iphone\" rel=\"nofollow\"&gt;Twitter for iPhone&lt;/a&gt;  </span>                                            </td><td><span style=white-space:pre-wrap>wackyjos      </span>                                                                                                                              </td><td>0                                                                                                                                                                                   </td><td>FALSE                                                                                                                                                                               </td><td>FALSE                                                                                                                                                                               </td><td>NA                                                                                                                                                                                  </td><td>NA                                                                                                                                                                                  </td></tr>\n",
       "</tbody>\n",
       "</table>\n"
      ],
      "text/latex": [
       "\\begin{tabular}{r|llllllllllllllll}\n",
       " text & favorited & favoriteCount & replyToSN & created & truncated & replyToSID & id & replyToUID & statusSource & screenName & retweetCount & isRetweet & retweeted & longitude & latitude\\\\\n",
       "\\hline\n",
       "\t Wow! \"@SofiAlvarezLop: En el \\#SuperBowl pasan muchas cosas...Escribí algunos datos para marketeros en @genwords :) https://t.co/iOmyvkvNu7\"  & FALSE                                                                                                                                          & 0                                                                                                                                              & NA                                                                                                                                             & 2017-02-17 13:00:37                                                                                                                            & FALSE                                                                                                                                          & NA                                                                                                                                             & 832575480293359616                                                                                                                             & NA                                                                                                                                             & <a href=\"http://twitter.com/download/android\" rel=\"nofollow\">Twitter for Android</a>                                                           & rickyandreutti                                                                                                                                 & 0                                                                                                                                              & FALSE                                                                                                                                          & FALSE                                                                                                                                          & NA                                                                                                                                             & NA                                                                                                                                            \\\\\n",
       "\t Esta semana en \\#Resortera de @amandititita: ¿@ladygaga tuvo miedo de difundir ideales políticos en el \\#SuperBowl?… https://t.co/c3VyPy7lfz   & FALSE                                                                                                                                            & 0                                                                                                                                                & NA                                                                                                                                               & 2017-02-17 13:00:04                                                                                                                              &  TRUE                                                                                                                                            & NA                                                                                                                                               & 832575341638017024                                                                                                                               & NA                                                                                                                                               & <a href=\"https://about.twitter.com/products/tweetdeck\" rel=\"nofollow\">TweetDeck</a>                                                              & LaCapital\\_                                                                                                                                     & 0                                                                                                                                                & FALSE                                                                                                                                            & FALSE                                                                                                                                            & NA                                                                                                                                               & NA                                                                                                                                              \\\\\n",
       "\t .@LewisLazare are we talking Chicago \\#SuperBowl babies? We are!! @ChicagoBearsFAM @PNCBank  https://t.co/DVtvpT1HfP                          & FALSE                                                                                                                                          & 1                                                                                                                                              & NA                                                                                                                                             & 2017-02-17 12:57:04                                                                                                                            & FALSE                                                                                                                                          & NA                                                                                                                                             & 832574584549494787                                                                                                                             & NA                                                                                                                                             & <a href=\"http://twitter.com/download/iphone\" rel=\"nofollow\">Twitter for iPhone</a>                                                             & saulboscanPNC                                                                                                                                  & 0                                                                                                                                              & FALSE                                                                                                                                          & FALSE                                                                                                                                          & NA                                                                                                                                             & NA                                                                                                                                            \\\\\n",
       "\t \\#superbowl porn interruption video hardcore hospital anime https://t.co/LgSV5PdjoU                                                           & FALSE                                                                                                                                          & 0                                                                                                                                              & NA                                                                                                                                             & 2017-02-17 12:56:15                                                                                                                            & FALSE                                                                                                                                          & NA                                                                                                                                             & 832574382572711937                                                                                                                             & NA                                                                                                                                             & <a href=\"http://twitter.com\" rel=\"nofollow\">Twitter Web Client</a>                                                                             & Psiu\\_iza                                                                                                                                     & 0                                                                                                                                              & FALSE                                                                                                                                          & FALSE                                                                                                                                          & NA                                                                                                                                             & NA                                                                                                                                            \\\\\n",
       "\t \\#NFL \\#MVP 9 CARD LOT OF \\#AaronRodgers W/INSERT NO DUPES \\#Packers-CAL \\#9A https://t.co/abQoAjoj0T \\#SuperBowl \\#Forsale https://t.co/aV6zZWqEkb & FALSE                                                                                                                                                      & 0                                                                                                                                                          & NA                                                                                                                                                         & 2017-02-17 12:52:01                                                                                                                                        & FALSE                                                                                                                                                      & NA                                                                                                                                                         & 832573313444626432                                                                                                                                         & NA                                                                                                                                                         & <a href=\"https://dlvrit.com/\" rel=\"nofollow\">dlvr.it</a>                                                                                                   & Myong\\_Wisley                                                                                                                                             & 0                                                                                                                                                          & FALSE                                                                                                                                                      & FALSE                                                                                                                                                      & NA                                                                                                                                                         & NA                                                                                                                                                        \\\\\n",
       "\t Lekker je weekend in met \\#ThisOnesForTheDonald playlist, deze had ze prima tijdens de \\#SuperBowl kunnen doen https://t.co/12WDk9VT4I         & FALSE                                                                                                                                            & 0                                                                                                                                                & NA                                                                                                                                               & 2017-02-17 12:51:17                                                                                                                              & FALSE                                                                                                                                            & NA                                                                                                                                               & 832573132254875648                                                                                                                               & NA                                                                                                                                               & <a href=\"http://twitter.com/download/iphone\" rel=\"nofollow\">Twitter for iPhone</a>                                                               & wackyjos                                                                                                                                         & 0                                                                                                                                                & FALSE                                                                                                                                            & FALSE                                                                                                                                            & NA                                                                                                                                               & NA                                                                                                                                              \\\\\n",
       "\\end{tabular}\n"
      ],
      "text/markdown": [
       "\n",
       "text | favorited | favoriteCount | replyToSN | created | truncated | replyToSID | id | replyToUID | statusSource | screenName | retweetCount | isRetweet | retweeted | longitude | latitude | \n",
       "|---|---|---|---|---|---|\n",
       "| Wow! \"@SofiAlvarezLop: En el #SuperBowl pasan muchas cosas...Escribí algunos datos para marketeros en @genwords :) https://t.co/iOmyvkvNu7\"  | FALSE                                                                                                                                        | 0                                                                                                                                            | NA                                                                                                                                           | 2017-02-17 13:00:37                                                                                                                          | FALSE                                                                                                                                        | NA                                                                                                                                           | 832575480293359616                                                                                                                           | NA                                                                                                                                           | <a href=\"http://twitter.com/download/android\" rel=\"nofollow\">Twitter for Android</a>                                                         | rickyandreutti                                                                                                                               | 0                                                                                                                                            | FALSE                                                                                                                                        | FALSE                                                                                                                                        | NA                                                                                                                                           | NA                                                                                                                                           | \n",
       "| Esta semana en #Resortera de @amandititita: ¿@ladygaga tuvo miedo de difundir ideales políticos en el #SuperBowl?… https://t.co/c3VyPy7lfz   | FALSE                                                                                                                                        | 0                                                                                                                                            | NA                                                                                                                                           | 2017-02-17 13:00:04                                                                                                                          |  TRUE                                                                                                                                        | NA                                                                                                                                           | 832575341638017024                                                                                                                           | NA                                                                                                                                           | <a href=\"https://about.twitter.com/products/tweetdeck\" rel=\"nofollow\">TweetDeck</a>                                                          | LaCapital_                                                                                                                                   | 0                                                                                                                                            | FALSE                                                                                                                                        | FALSE                                                                                                                                        | NA                                                                                                                                           | NA                                                                                                                                           | \n",
       "| .@LewisLazare are we talking Chicago #SuperBowl babies? We are!! @ChicagoBearsFAM @PNCBank  https://t.co/DVtvpT1HfP                          | FALSE                                                                                                                                        | 1                                                                                                                                            | NA                                                                                                                                           | 2017-02-17 12:57:04                                                                                                                          | FALSE                                                                                                                                        | NA                                                                                                                                           | 832574584549494787                                                                                                                           | NA                                                                                                                                           | <a href=\"http://twitter.com/download/iphone\" rel=\"nofollow\">Twitter for iPhone</a>                                                           | saulboscanPNC                                                                                                                                | 0                                                                                                                                            | FALSE                                                                                                                                        | FALSE                                                                                                                                        | NA                                                                                                                                           | NA                                                                                                                                           | \n",
       "| #superbowl porn interruption video hardcore hospital anime https://t.co/LgSV5PdjoU                                                           | FALSE                                                                                                                                        | 0                                                                                                                                            | NA                                                                                                                                           | 2017-02-17 12:56:15                                                                                                                          | FALSE                                                                                                                                        | NA                                                                                                                                           | 832574382572711937                                                                                                                           | NA                                                                                                                                           | <a href=\"http://twitter.com\" rel=\"nofollow\">Twitter Web Client</a>                                                                           | Psiu_iza                                                                                                                                     | 0                                                                                                                                            | FALSE                                                                                                                                        | FALSE                                                                                                                                        | NA                                                                                                                                           | NA                                                                                                                                           | \n",
       "| #NFL #MVP 9 CARD LOT OF #AaronRodgers W/INSERT NO DUPES #Packers-CAL #9A https://t.co/abQoAjoj0T #SuperBowl #Forsale https://t.co/aV6zZWqEkb | FALSE                                                                                                                                        | 0                                                                                                                                            | NA                                                                                                                                           | 2017-02-17 12:52:01                                                                                                                          | FALSE                                                                                                                                        | NA                                                                                                                                           | 832573313444626432                                                                                                                           | NA                                                                                                                                           | <a href=\"https://dlvrit.com/\" rel=\"nofollow\">dlvr.it</a>                                                                                     | Myong_Wisley                                                                                                                                 | 0                                                                                                                                            | FALSE                                                                                                                                        | FALSE                                                                                                                                        | NA                                                                                                                                           | NA                                                                                                                                           | \n",
       "| Lekker je weekend in met #ThisOnesForTheDonald playlist, deze had ze prima tijdens de #SuperBowl kunnen doen https://t.co/12WDk9VT4I         | FALSE                                                                                                                                        | 0                                                                                                                                            | NA                                                                                                                                           | 2017-02-17 12:51:17                                                                                                                          | FALSE                                                                                                                                        | NA                                                                                                                                           | 832573132254875648                                                                                                                           | NA                                                                                                                                           | <a href=\"http://twitter.com/download/iphone\" rel=\"nofollow\">Twitter for iPhone</a>                                                           | wackyjos                                                                                                                                     | 0                                                                                                                                            | FALSE                                                                                                                                        | FALSE                                                                                                                                        | NA                                                                                                                                           | NA                                                                                                                                           | \n",
       "\n",
       "\n"
      ],
      "text/plain": [
       "  text                                                                                                                                        \n",
       "1 Wow! \"@SofiAlvarezLop: En el #SuperBowl pasan muchas cosas...Escribí algunos datos para marketeros en @genwords :) https://t.co/iOmyvkvNu7\" \n",
       "2 Esta semana en #Resortera de @amandititita: ¿@ladygaga tuvo miedo de difundir ideales políticos en el #SuperBowl?",
       " https://t.co/c3VyPy7lfz  \n",
       "3 .@LewisLazare are we talking Chicago #SuperBowl babies? We are!! @ChicagoBearsFAM @PNCBank  https://t.co/DVtvpT1HfP                         \n",
       "4 #superbowl porn interruption video hardcore hospital anime https://t.co/LgSV5PdjoU                                                          \n",
       "5 #NFL #MVP 9 CARD LOT OF #AaronRodgers W/INSERT NO DUPES #Packers-CAL #9A https://t.co/abQoAjoj0T #SuperBowl #Forsale https://t.co/aV6zZWqEkb\n",
       "6 Lekker je weekend in met #ThisOnesForTheDonald playlist, deze had ze prima tijdens de #SuperBowl kunnen doen https://t.co/12WDk9VT4I        \n",
       "  favorited favoriteCount replyToSN created             truncated replyToSID\n",
       "1 FALSE     0             NA        2017-02-17 13:00:37 FALSE     NA        \n",
       "2 FALSE     0             NA        2017-02-17 13:00:04  TRUE     NA        \n",
       "3 FALSE     1             NA        2017-02-17 12:57:04 FALSE     NA        \n",
       "4 FALSE     0             NA        2017-02-17 12:56:15 FALSE     NA        \n",
       "5 FALSE     0             NA        2017-02-17 12:52:01 FALSE     NA        \n",
       "6 FALSE     0             NA        2017-02-17 12:51:17 FALSE     NA        \n",
       "  id                 replyToUID\n",
       "1 832575480293359616 NA        \n",
       "2 832575341638017024 NA        \n",
       "3 832574584549494787 NA        \n",
       "4 832574382572711937 NA        \n",
       "5 832573313444626432 NA        \n",
       "6 832573132254875648 NA        \n",
       "  statusSource                                                                        \n",
       "1 <a href=\"http://twitter.com/download/android\" rel=\"nofollow\">Twitter for Android</a>\n",
       "2 <a href=\"https://about.twitter.com/products/tweetdeck\" rel=\"nofollow\">TweetDeck</a> \n",
       "3 <a href=\"http://twitter.com/download/iphone\" rel=\"nofollow\">Twitter for iPhone</a>  \n",
       "4 <a href=\"http://twitter.com\" rel=\"nofollow\">Twitter Web Client</a>                  \n",
       "5 <a href=\"https://dlvrit.com/\" rel=\"nofollow\">dlvr.it</a>                            \n",
       "6 <a href=\"http://twitter.com/download/iphone\" rel=\"nofollow\">Twitter for iPhone</a>  \n",
       "  screenName     retweetCount isRetweet retweeted longitude latitude\n",
       "1 rickyandreutti 0            FALSE     FALSE     NA        NA      \n",
       "2 LaCapital_     0            FALSE     FALSE     NA        NA      \n",
       "3 saulboscanPNC  0            FALSE     FALSE     NA        NA      \n",
       "4 Psiu_iza       0            FALSE     FALSE     NA        NA      \n",
       "5 Myong_Wisley   0            FALSE     FALSE     NA        NA      \n",
       "6 wackyjos       0            FALSE     FALSE     NA        NA      "
      ]
     },
     "metadata": {},
     "output_type": "display_data"
    }
   ],
   "source": [
    "# storing in Data frame\n",
    "df<-twListToDF(rt_removed_tweets)\n",
    "head(df)"
   ]
  },
  {
   "cell_type": "code",
   "execution_count": 13,
   "metadata": {
    "collapsed": true
   },
   "outputs": [],
   "source": [
    "#fetching user info\n",
    "user_info <- getUser('Myong_Wisley')"
   ]
  },
  {
   "cell_type": "code",
   "execution_count": 15,
   "metadata": {
    "collapsed": false
   },
   "outputs": [],
   "source": [
    "all_user_info <- paste(user_info$created,user_info$description, user_info$favoritesCount, user_info$followersCount,user_info$followRequestSent, sep = \",\")"
   ]
  },
  {
   "cell_type": "code",
   "execution_count": 16,
   "metadata": {
    "collapsed": false
   },
   "outputs": [
    {
     "name": "stdout",
     "output_type": "stream",
     "text": [
      "[1] \"2011-11-17 00:30:54,All up in this interwebs in comfortable footwear. present: MTV/VH1 Digital Production & Development. past: Sports Journalism. always: sneaker enthusiast.,0,1124,FALSE\"\n"
     ]
    }
   ],
   "source": [
    "print(all_user_info)"
   ]
  },
  {
   "cell_type": "code",
   "execution_count": 22,
   "metadata": {
    "collapsed": false
   },
   "outputs": [],
   "source": [
    "all_user_info <- paste(user_info$friendsCount, user_info$lang, user_info$location, sep = \",\")"
   ]
  },
  {
   "cell_type": "code",
   "execution_count": 23,
   "metadata": {
    "collapsed": false
   },
   "outputs": [
    {
     "name": "stdout",
     "output_type": "stream",
     "text": [
      "[1] \"0,en,Burbank, California\"\n"
     ]
    }
   ],
   "source": [
    "print(all_user_info)"
   ]
  },
  {
   "cell_type": "code",
   "execution_count": 24,
   "metadata": {
    "collapsed": false
   },
   "outputs": [
    {
     "name": "stdout",
     "output_type": "stream",
     "text": [
      "[1] \"Unknown: #Sexy #Britney #BritneySpears Magazine Lot https://t.co/xGsDsGSDMX #Auction #Discount https://t.co/cWZRRq6EtK\"\n"
     ]
    }
   ],
   "source": [
    "print(user_info$lastStatus)"
   ]
  },
  {
   "cell_type": "code",
   "execution_count": 25,
   "metadata": {
    "collapsed": false
   },
   "outputs": [
    {
     "name": "stdout",
     "output_type": "stream",
     "text": [
      "[1] \"Myong _Wisley,Myong_Wisley,490344,FALSE\"\n"
     ]
    }
   ],
   "source": [
    "print(paste(user_info$name, user_info$screenName, user_info$statusesCount, user_info$verified,sep = \",\"))"
   ]
  },
  {
   "cell_type": "code",
   "execution_count": 26,
   "metadata": {
    "collapsed": false
   },
   "outputs": [
    {
     "data": {
      "text/plain": [
       "[[1]]\n",
       "[1] \"rickyandreutti: Wow! \\\"@SofiAlvarezLop: En el #SuperBowl pasan muchas cosas...Escribí algunos datos para marketeros en @genwords :) https://t.co/iOmyvkvNu7\\\"\"\n",
       "\n",
       "[[2]]\n",
       "[1] \"rickyandreutti: A cerrar bien la semana, gente! \\nVamos arriba! \\n#SomosAgentesDeCambio https://t.co/Uh3ZUfGDuW\"\n",
       "\n",
       "[[3]]\n",
       "[1] \"rickyandreutti: #MiDepor llegando a Maracaibo, con la disposición de llevar los tres puntos a Barquisimeto. Vamos @DeportivoLara a seguir creciendo!!!\"\n",
       "\n",
       "[[4]]\n",
       "[1] \"rickyandreutti: Vamos arriba, jueves! \\n#SomosAgentesDeCambio https://t.co/qeyUpH6py7\"\n",
       "\n",
       "[[5]]\n",
       "[1] \"rickyandreutti: Un tras cámara de la campaña de @Fncancer #GotasDeAyuda con esta belleza #DiaInternacionalContraelCancerInfantil https://t.co/gEkob2jyF2\"\n"
      ]
     },
     "metadata": {},
     "output_type": "display_data"
    }
   ],
   "source": [
    "# fetching a user's timeline information\n",
    "user_tweets <- userTimeline('rickyandreutti')\n",
    "user_tweets[1:5]"
   ]
  },
  {
   "cell_type": "code",
   "execution_count": 27,
   "metadata": {
    "collapsed": false
   },
   "outputs": [
    {
     "data": {
      "text/html": [
       "85"
      ],
      "text/latex": [
       "85"
      ],
      "text/markdown": [
       "85"
      ],
      "text/plain": [
       "[1] 85"
      ]
     },
     "metadata": {},
     "output_type": "display_data"
    }
   ],
   "source": [
    "tweets_large <- userTimeline('rickyandreutti', n=100)\n",
    "length(tweets_large)"
   ]
  },
  {
   "cell_type": "code",
   "execution_count": 28,
   "metadata": {
    "collapsed": false
   },
   "outputs": [
    {
     "data": {
      "text/html": [
       "<table>\n",
       "<thead><tr><th scope=col>name</th><th scope=col>country</th><th scope=col>woeid</th></tr></thead>\n",
       "<tbody>\n",
       "\t<tr><td>Worldwide</td><td>         </td><td>1        </td></tr>\n",
       "\t<tr><td>Winnipeg </td><td>Canada   </td><td>2972     </td></tr>\n",
       "\t<tr><td>Ottawa   </td><td>Canada   </td><td>3369     </td></tr>\n",
       "\t<tr><td>Quebec   </td><td>Canada   </td><td>3444     </td></tr>\n",
       "\t<tr><td>Montreal </td><td>Canada   </td><td>3534     </td></tr>\n",
       "\t<tr><td>Toronto  </td><td>Canada   </td><td>4118     </td></tr>\n",
       "</tbody>\n",
       "</table>\n"
      ],
      "text/latex": [
       "\\begin{tabular}{r|lll}\n",
       " name & country & woeid\\\\\n",
       "\\hline\n",
       "\t Worldwide &           & 1        \\\\\n",
       "\t Winnipeg  & Canada    & 2972     \\\\\n",
       "\t Ottawa    & Canada    & 3369     \\\\\n",
       "\t Quebec    & Canada    & 3444     \\\\\n",
       "\t Montreal  & Canada    & 3534     \\\\\n",
       "\t Toronto   & Canada    & 4118     \\\\\n",
       "\\end{tabular}\n"
      ],
      "text/markdown": [
       "\n",
       "name | country | woeid | \n",
       "|---|---|---|---|---|---|\n",
       "| Worldwide |           | 1         | \n",
       "| Winnipeg  | Canada    | 2972      | \n",
       "| Ottawa    | Canada    | 3369      | \n",
       "| Quebec    | Canada    | 3444      | \n",
       "| Montreal  | Canada    | 3534      | \n",
       "| Toronto   | Canada    | 4118      | \n",
       "\n",
       "\n"
      ],
      "text/plain": [
       "  name      country woeid\n",
       "1 Worldwide         1    \n",
       "2 Winnipeg  Canada  2972 \n",
       "3 Ottawa    Canada  3369 \n",
       "4 Quebec    Canada  3444 \n",
       "5 Montreal  Canada  3534 \n",
       "6 Toronto   Canada  4118 "
      ]
     },
     "metadata": {},
     "output_type": "display_data"
    }
   ],
   "source": [
    "# finding the available trends\n",
    "avail_trends = availableTrendLocations()\n",
    "head(avail_trends)"
   ]
  },
  {
   "cell_type": "code",
   "execution_count": 29,
   "metadata": {
    "collapsed": true
   },
   "outputs": [],
   "source": [
    "my_tweets <- homeTimeline()"
   ]
  },
  {
   "cell_type": "code",
   "execution_count": 30,
   "metadata": {
    "collapsed": false
   },
   "outputs": [
    {
     "data": {
      "text/plain": [
       "[[1]]\n",
       "[1] \"ItsFoodPorn: Mac n Cheese Grilled Sandwich https://t.co/dN7FB91plb\"\n",
       "\n",
       "[[2]]\n",
       "[1] \"nytimes: As a crackdown on immigrants begins, Mexicos 50 consulates in the U.S. are moving quickly help them https://t.co/VCXlpyUteY\"\n",
       "\n",
       "[[3]]\n",
       "[1] \"CNN: \\\"We're just trying to manage this s***\\\": Republicans hang on for Donald Trump's wild ride https://t.co/9gyCiBVmJn https://t.co/pbI2m0Y5Ac\"\n",
       "\n",
       "[[4]]\n",
       "[1] \"enews: Viola Davis may be the odds on favorite to win an Oscar, but that's not always a good thing: https://t.co/zPuMdWX7Yw https://t.co/esERoqoZKZ\"\n",
       "\n",
       "[[5]]\n",
       "[1] \"planetepics: And so the fox fell in love with the hound https://t.co/AqR9WdGi3u\"\n",
       "\n",
       "[[6]]\n",
       "[1] \"ItsFoodPorn: Cheesy Bacon and Onion Burger https://t.co/csPD0r16GG\"\n"
      ]
     },
     "metadata": {},
     "output_type": "display_data"
    }
   ],
   "source": [
    "# fetching and diplaying my own timeline tweets\n",
    "head(my_tweets)"
   ]
  },
  {
   "cell_type": "code",
   "execution_count": 35,
   "metadata": {
    "collapsed": false
   },
   "outputs": [
    {
     "data": {
      "image/png": "[encoded data removed]",
      "text/plain": [
       "plot without title"
      ]
     },
     "metadata": {},
     "output_type": "display_data"
    }
   ],
   "source": [
    " r_tweets <- searchTwitter(\"#valentinesDay\", n=30)\n",
    " sources <- sapply(r_tweets, function(x) x$getStatusSource())\n",
    " sources <- gsub(\"</a>\", \"\", sources)\n",
    " sources <- strsplit(sources, \">\")\n",
    " sources <- sapply(sources, function(x) ifelse(length(x) > 1, x[2], x[1]))\n",
    " source_table = table(sources)\n",
    " pie(source_table[source_table > 0])"
   ]
  },
  {
   "cell_type": "code",
   "execution_count": null,
   "metadata": {
    "collapsed": true
   },
   "outputs": [],
   "source": []
  }
 ],
 "metadata": {
  "kernelspec": {
   "display_name": "R",
   "language": "R",
   "name": "ir"
  },
  "language_info": {
   "codemirror_mode": "r",
   "file_extension": ".r",
   "mimetype": "text/x-r-source",
   "name": "R",
   "pygments_lexer": "r",
   "version": "3.3.2"
  }
 },
 "nbformat": 4,
 "nbformat_minor": 2
}
