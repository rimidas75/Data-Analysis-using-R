{
 "cells": [
  {
   "cell_type": "code",
   "execution_count": null,
   "metadata": {
    "collapsed": true
   },
   "outputs": [],
   "source": [
    "install.packages('twitteR',repos='http://cran.us.r-project.org')\n",
    "install.packages('sp',repos='http://cran.us.r-project.org')\n",
    "install.packages('maps',repos='http://cran.us.r-project.org')\n",
    "install.packages(\"sqldf\", repos = \"https://cran.r-project.org\")\n",
    "install.packages(\"RSQLite\", repos = \"https://cran.r-project.org\")"
   ]
  },
  {
   "cell_type": "code",
   "execution_count": 4,
   "metadata": {
    "collapsed": false
   },
   "outputs": [
    {
     "ename": "ERROR",
     "evalue": "Error: package or namespace load failed for 'ggplot2'\n",
     "output_type": "error",
     "traceback": [
      "Error: package or namespace load failed for 'ggplot2'\nTraceback:\n",
      "1. library(ggplot2)",
      "2. stop(gettextf(\"package or namespace load failed for %s\", sQuote(package)), \n .     call. = FALSE, domain = NA)"
     ]
    }
   ],
   "source": [
    "library(twitteR)\n",
    "library(maps)\n",
    "library(RSQLite)\n",
    "library(sqldf)\n",
    "library(ggplot2)\n",
    "library(ggmap)\n",
    "library(mapdata)\n",
    "library(plyr)"
   ]
  },
  {
   "cell_type": "markdown",
   "metadata": {},
   "source": [
    "###### Twitter authentication"
   ]
  },
  {
   "cell_type": "code",
   "execution_count": 5,
   "metadata": {
    "collapsed": false
   },
   "outputs": [
    {
     "name": "stdout",
     "output_type": "stream",
     "text": [
      "[1] \"Using direct authentication\"\n"
     ]
    }
   ],
   "source": [
    "api_key <- \"wgv8Rsu9oTVQDJodUQDK6khI4\"\n",
    "api_secret <- \"hhkweXXpK61mZ0blGFcNdgbB5ENnXfK2hYJngpcwi9EWrNWAoI\"\n",
    " \n",
    "access_token <- \"771375033264513024-JZP8Bdbz7TXmm5MgFQTi21YtnUfZQL4\"\n",
    " \n",
    "access_token_secret <- \"qIGbyUMy3vNI0LHhPfO4huLump1Jna8iy22zKzOHClEnY\"\n",
    " \n",
    "setup_twitter_oauth(api_key,api_secret,access_token,access_token_secret)"
   ]
  },
  {
   "cell_type": "markdown",
   "metadata": {},
   "source": [
    "###### To search tweets using a hashtag string"
   ]
  },
  {
   "cell_type": "code",
   "execution_count": 7,
   "metadata": {
    "collapsed": true
   },
   "outputs": [],
   "source": [
    "hashtag_str = \"#superbowl\" \n",
    "num = 2000\n",
    "tweets <-searchTwitter(hashtag_str, geocode=NULL, n =num)"
   ]
  },
  {
   "cell_type": "markdown",
   "metadata": {},
   "source": [
    "###### Filter out the retweets"
   ]
  },
  {
   "cell_type": "code",
   "execution_count": 8,
   "metadata": {
    "collapsed": true
   },
   "outputs": [],
   "source": [
    "tweets <- strip_retweets(tweets,strip_manual=TRUE,strip_mt=TRUE)"
   ]
  },
  {
   "cell_type": "markdown",
   "metadata": {},
   "source": [
    "###### Store the fetched tweets in a data frame \"df\""
   ]
  },
  {
   "cell_type": "code",
   "execution_count": 21,
   "metadata": {
    "collapsed": false
   },
   "outputs": [],
   "source": [
    "df<-twListToDF(tweets)\n"
   ]
  },
  {
   "cell_type": "markdown",
   "metadata": {},
   "source": [
    "###### Write the dataframe into  .csv file "
   ]
  },
  {
   "cell_type": "code",
   "execution_count": null,
   "metadata": {
    "collapsed": true
   },
   "outputs": [],
   "source": [
    "write.csv(df, file = \"MyData.csv\")"
   ]
  },
  {
   "cell_type": "markdown",
   "metadata": {
    "collapsed": true
   },
   "source": [
    "###### To read stored tweets from a csv file\n",
    "\n",
    "\n",
    "\n"
   ]
  },
  {
   "cell_type": "code",
   "execution_count": null,
   "metadata": {
    "collapsed": true
   },
   "outputs": [],
   "source": [
    "MyData <- read.csv(file=\"MyData.csv\", header=TRUE, sep=\",\")"
   ]
  },
  {
   "cell_type": "markdown",
   "metadata": {},
   "source": [
    "###### Traversing through the entire data set and checking for the rows with \"NA\" as longitude/latitude values.\n",
    "######  Replacing them with corresponding UserLocation(if found)"
   ]
  },
  {
   "cell_type": "code",
   "execution_count": 8,
   "metadata": {
    "collapsed": false
   },
   "outputs": [
    {
     "name": "stderr",
     "output_type": "stream",
     "text": [
      "Information from URL : http://maps.googleapis.com/maps/api/geocode/json?address=New%20York%20City&sensor=false\n",
      "Warning message in if (c$location != \"\" & is.na(MyData$longitude[cnt]) & is.na(MyData$latitude[cnt]) & :\n",
      "\"the condition has length > 1 and only the first element will be used\"Information from URL : http://maps.googleapis.com/maps/api/geocode/json?address=Austin,%20TX&sensor=false\n",
      "Warning message in if (c$location != \"\" & is.na(MyData$longitude[cnt]) & is.na(MyData$latitude[cnt]) & :\n",
      "\"the condition has length > 1 and only the first element will be used\"Information from URL : http://maps.googleapis.com/maps/api/geocode/json?address=kingsville,tx&sensor=false\n",
      "Warning message in if (c$location != \"\" & is.na(MyData$longitude[cnt]) & is.na(MyData$latitude[cnt]) & :\n",
      "\"the condition has length > 1 and only the first element will be used\"Warning message in if (c$location != \"\" & is.na(MyData$longitude[cnt]) & is.na(MyData$latitude[cnt]) & :\n",
      "\"the condition has length > 1 and only the first element will be used\"Information from URL : http://maps.googleapis.com/maps/api/geocode/json?address=Boston,%20MA&sensor=false\n",
      "Warning message in if (c$location != \"\" & is.na(MyData$longitude[cnt]) & is.na(MyData$latitude[cnt]) & :\n",
      "\"the condition has length > 1 and only the first element will be used\"Information from URL : http://maps.googleapis.com/maps/api/geocode/json?address=Austin,%20TX&sensor=false\n",
      "Warning message in if (c$location != \"\" & is.na(MyData$longitude[cnt]) & is.na(MyData$latitude[cnt]) & :\n",
      "\"the condition has length > 1 and only the first element will be used\"Information from URL : http://maps.googleapis.com/maps/api/geocode/json?address=Austin,%20TX&sensor=false\n",
      "Warning message in if (c$location != \"\" & is.na(MyData$longitude[cnt]) & is.na(MyData$latitude[cnt]) & :\n",
      "\"the condition has length > 1 and only the first element will be used\"Information from URL : http://maps.googleapis.com/maps/api/geocode/json?address=Austin,%20TX&sensor=false\n",
      "Warning message in if (c$location != \"\" & is.na(MyData$longitude[cnt]) & is.na(MyData$latitude[cnt]) & :\n",
      "\"the condition has length > 1 and only the first element will be used\"Information from URL : http://maps.googleapis.com/maps/api/geocode/json?address=Narragansett,%20RI&sensor=false\n",
      "Warning message in if (c$location != \"\" & is.na(MyData$longitude[cnt]) & is.na(MyData$latitude[cnt]) & :\n",
      "\"the condition has length > 1 and only the first element will be used\"Information from URL : http://maps.googleapis.com/maps/api/geocode/json?address=Boston,%20MA&sensor=false\n",
      "Warning message in if (c$location != \"\" & is.na(MyData$longitude[cnt]) & is.na(MyData$latitude[cnt]) & :\n",
      "\"the condition has length > 1 and only the first element will be used\"Warning message in if (c$location != \"\" & is.na(MyData$longitude[cnt]) & is.na(MyData$latitude[cnt]) & :\n",
      "\"the condition has length > 1 and only the first element will be used\"Information from URL : http://maps.googleapis.com/maps/api/geocode/json?address=North%20Reading,%20MA&sensor=false\n",
      "Warning message in if (c$location != \"\" & is.na(MyData$longitude[cnt]) & is.na(MyData$latitude[cnt]) & :\n",
      "\"the condition has length > 1 and only the first element will be used\".Information from URL : http://maps.googleapis.com/maps/api/geocode/json?address=Austin,%20TX&sensor=false\n",
      "Warning message in if (c$location != \"\" & is.na(MyData$longitude[cnt]) & is.na(MyData$latitude[cnt]) & :\n",
      "\"the condition has length > 1 and only the first element will be used\".Information from URL : http://maps.googleapis.com/maps/api/geocode/json?address=Boston,%20MA&sensor=false\n",
      "Warning message in if (c$location != \"\" & is.na(MyData$longitude[cnt]) & is.na(MyData$latitude[cnt]) & :\n",
      "\"the condition has length > 1 and only the first element will be used\".Information from URL : http://maps.googleapis.com/maps/api/geocode/json?address=Boston,%20MA&sensor=false\n",
      "Warning message in if (c$location != \"\" & is.na(MyData$longitude[cnt]) & is.na(MyData$latitude[cnt]) & :\n",
      "\"the condition has length > 1 and only the first element will be used\".Information from URL : http://maps.googleapis.com/maps/api/geocode/json?address=Brooklyn,%20NY&sensor=false\n",
      "Warning message in if (c$location != \"\" & is.na(MyData$longitude[cnt]) & is.na(MyData$latitude[cnt]) & :\n",
      "\"the condition has length > 1 and only the first element will be used\".Information from URL : http://maps.googleapis.com/maps/api/geocode/json?address=Maryland&sensor=false\n",
      "Warning message in if (c$location != \"\" & is.na(MyData$longitude[cnt]) & is.na(MyData$latitude[cnt]) & :\n",
      "\"the condition has length > 1 and only the first element will be used\"Warning message in if (c$location != \"\" & is.na(MyData$longitude[cnt]) & is.na(MyData$latitude[cnt]) & :\n",
      "\"the condition has length > 1 and only the first element will be used\"Information from URL : http://maps.googleapis.com/maps/api/geocode/json?address=Long%20Beach,%20CA&sensor=false\n",
      "Warning message in if (c$location != \"\" & is.na(MyData$longitude[cnt]) & is.na(MyData$latitude[cnt]) & :\n",
      "\"the condition has length > 1 and only the first element will be used\"Information from URL : http://maps.googleapis.com/maps/api/geocode/json?address=Charlottesville,%20VA&sensor=false\n",
      "Warning message in if (c$location != \"\" & is.na(MyData$longitude[cnt]) & is.na(MyData$latitude[cnt]) & :\n",
      "\"the condition has length > 1 and only the first element will be used\"Information from URL : http://maps.googleapis.com/maps/api/geocode/json?address=Austin,%20TX&sensor=false\n",
      "Warning message in if (c$location != \"\" & is.na(MyData$longitude[cnt]) & is.na(MyData$latitude[cnt]) & :\n",
      "\"the condition has length > 1 and only the first element will be used\"Warning message in if (c$location != \"\" & is.na(MyData$longitude[cnt]) & is.na(MyData$latitude[cnt]) & :\n",
      "\"the condition has length > 1 and only the first element will be used\"Information from URL : http://maps.googleapis.com/maps/api/geocode/json?address=Boston,%20MA&sensor=false\n",
      "Warning message in if (c$location != \"\" & is.na(MyData$longitude[cnt]) & is.na(MyData$latitude[cnt]) & :\n",
      "\"the condition has length > 1 and only the first element will be used\"Information from URL : http://maps.googleapis.com/maps/api/geocode/json?address=Austin,%20TX&sensor=false\n",
      "Warning message in if (c$location != \"\" & is.na(MyData$longitude[cnt]) & is.na(MyData$latitude[cnt]) & :\n",
      "\"the condition has length > 1 and only the first element will be used\".Information from URL : http://maps.googleapis.com/maps/api/geocode/json?address=InsaneAsylum/JerseyStrong&sensor=false\n",
      "Warning message:\n",
      "\"geocode failed with status ZERO_RESULTS, location = \"InsaneAsylum/JerseyStrong\"\"Warning message in if (c$location != \"\" & is.na(MyData$longitude[cnt]) & is.na(MyData$latitude[cnt]) & :\n",
      "\"the condition has length > 1 and only the first element will be used\""
     ]
    }
   ],
   "source": [
    "\n",
    "cnt <- 1\n",
    "\n",
    "repeat {\n",
    "    c <- getUser(MyData$screenName[cnt])\n",
    "    b <- geocode(c$location)\n",
    "    \n",
    "    if(c$location!=\"\" & is.na(MyData$longitude[cnt]) & is.na(MyData$latitude[cnt]) & !is.na(b))\n",
    "        {\n",
    "\n",
    "         MyData$longitude[cnt] <-  b$lon\n",
    "         MyData$latitude[cnt] <-  b$lat \n",
    "        }\n",
    "   cnt <- cnt+1\n",
    "   if(cnt>nrow(MyData))\n",
    "       break;\n",
    "   \n",
    "}\n",
    "df = data.frame(MyData$longitude, MyData$latitude) "
   ]
  },
  {
   "cell_type": "markdown",
   "metadata": {},
   "source": [
    "###### now data frame \"df\" stores all possible latitude/longitude values."
   ]
  },
  {
   "cell_type": "code",
   "execution_count": 9,
   "metadata": {
    "collapsed": false
   },
   "outputs": [
    {
     "data": {
      "text/html": [
       "<table>\n",
       "<thead><tr><th scope=col>MyData.longitude</th><th scope=col>MyData.latitude</th></tr></thead>\n",
       "<tbody>\n",
       "\t<tr><td>-74.00594</td><td>40.71278 </td></tr>\n",
       "\t<tr><td>-97.74306</td><td>30.26715 </td></tr>\n",
       "\t<tr><td>-97.85611</td><td>27.51587 </td></tr>\n",
       "\t<tr><td>       NA</td><td>      NA </td></tr>\n",
       "\t<tr><td>-71.05888</td><td>42.36008 </td></tr>\n",
       "\t<tr><td>-97.74306</td><td>30.26715 </td></tr>\n",
       "</tbody>\n",
       "</table>\n"
      ],
      "text/latex": [
       "\\begin{tabular}{r|ll}\n",
       " MyData.longitude & MyData.latitude\\\\\n",
       "\\hline\n",
       "\t -74.00594 & 40.71278 \\\\\n",
       "\t -97.74306 & 30.26715 \\\\\n",
       "\t -97.85611 & 27.51587 \\\\\n",
       "\t        NA &       NA \\\\\n",
       "\t -71.05888 & 42.36008 \\\\\n",
       "\t -97.74306 & 30.26715 \\\\\n",
       "\\end{tabular}\n"
      ],
      "text/markdown": [
       "\n",
       "MyData.longitude | MyData.latitude | \n",
       "|---|---|---|---|---|---|\n",
       "| -74.00594 | 40.71278  | \n",
       "| -97.74306 | 30.26715  | \n",
       "| -97.85611 | 27.51587  | \n",
       "|        NA |       NA  | \n",
       "| -71.05888 | 42.36008  | \n",
       "| -97.74306 | 30.26715  | \n",
       "\n",
       "\n"
      ],
      "text/plain": [
       "  MyData.longitude MyData.latitude\n",
       "1 -74.00594        40.71278       \n",
       "2 -97.74306        30.26715       \n",
       "3 -97.85611        27.51587       \n",
       "4        NA              NA       \n",
       "5 -71.05888        42.36008       \n",
       "6 -97.74306        30.26715       "
      ]
     },
     "metadata": {},
     "output_type": "display_data"
    }
   ],
   "source": [
    "head(df)"
   ]
  },
  {
   "cell_type": "markdown",
   "metadata": {},
   "source": [
    "###### Filtering out the rows that still contain NA as one or both of its column values"
   ]
  },
  {
   "cell_type": "code",
   "execution_count": 10,
   "metadata": {
    "collapsed": false
   },
   "outputs": [
    {
     "name": "stdout",
     "output_type": "stream",
     "text": [
      "   MyData.longitude MyData.latitude\n",
      "1         -74.00594        40.71278\n",
      "2         -97.74306        30.26715\n",
      "3         -97.85611        27.51587\n",
      "5         -71.05888        42.36008\n",
      "6         -97.74306        30.26715\n",
      "7         -97.74306        30.26715\n",
      "8         -97.74306        30.26715\n",
      "9         -71.44950        41.45008\n",
      "10        -71.05888        42.36008\n",
      "12        -71.07867        42.57509\n",
      "13        -97.74306        30.26715\n",
      "14        -71.05888        42.36008\n",
      "15        -71.05888        42.36008\n",
      "16        -73.94416        40.67818\n",
      "17        -76.64127        39.04575\n",
      "19       -118.19374        33.77005\n",
      "20        -78.47668        38.02931\n",
      "21        -97.74306        30.26715\n",
      "23        -71.05888        42.36008\n",
      "24        -97.74306        30.26715\n"
     ]
    }
   ],
   "source": [
    "df.filtered = df[complete.cases(df),]\n",
    "print(df.filtered)"
   ]
  },
  {
   "cell_type": "markdown",
   "metadata": {},
   "source": [
    "##### From the latitude/longitude data stored in \"df.filtered\",\n",
    "##### extract the corresponding State name and bind it to the data frame.\n",
    "##### Name it \"p\""
   ]
  },
  {
   "cell_type": "code",
   "execution_count": 11,
   "metadata": {
    "collapsed": false
   },
   "outputs": [
    {
     "name": "stderr",
     "output_type": "stream",
     "text": [
      "Information from URL : http://maps.googleapis.com/maps/api/geocode/json?latlng=40.7127837,-74.0059413&sensor=false\n",
      "Information from URL : http://maps.googleapis.com/maps/api/geocode/json?latlng=30.267153,-97.7430608&sensor=false\n",
      "Information from URL : http://maps.googleapis.com/maps/api/geocode/json?latlng=27.5158689,-97.856109&sensor=false\n",
      "Information from URL : http://maps.googleapis.com/maps/api/geocode/json?latlng=42.3600825,-71.0588801&sensor=false\n",
      "Information from URL : http://maps.googleapis.com/maps/api/geocode/json?latlng=30.267153,-97.7430608&sensor=false\n",
      "Information from URL : http://maps.googleapis.com/maps/api/geocode/json?latlng=30.267153,-97.7430608&sensor=false\n",
      "Information from URL : http://maps.googleapis.com/maps/api/geocode/json?latlng=30.267153,-97.7430608&sensor=false\n",
      "Information from URL : http://maps.googleapis.com/maps/api/geocode/json?latlng=41.4500844,-71.449503&sensor=false\n",
      "Information from URL : http://maps.googleapis.com/maps/api/geocode/json?latlng=42.3600825,-71.0588801&sensor=false\n",
      "Information from URL : http://maps.googleapis.com/maps/api/geocode/json?latlng=42.5750939,-71.0786653&sensor=false\n",
      ".Information from URL : http://maps.googleapis.com/maps/api/geocode/json?latlng=30.267153,-97.7430608&sensor=false\n",
      ".Information from URL : http://maps.googleapis.com/maps/api/geocode/json?latlng=42.3600825,-71.0588801&sensor=false\n",
      ".Information from URL : http://maps.googleapis.com/maps/api/geocode/json?latlng=42.3600825,-71.0588801&sensor=false\n",
      ".Information from URL : http://maps.googleapis.com/maps/api/geocode/json?latlng=40.6781784,-73.9441579&sensor=false\n",
      ".Information from URL : http://maps.googleapis.com/maps/api/geocode/json?latlng=39.0457549,-76.6412712&sensor=false\n",
      ".Information from URL : http://maps.googleapis.com/maps/api/geocode/json?latlng=33.7700504,-118.1937395&sensor=false\n",
      "Information from URL : http://maps.googleapis.com/maps/api/geocode/json?latlng=38.0293059,-78.4766781&sensor=false\n",
      "Information from URL : http://maps.googleapis.com/maps/api/geocode/json?latlng=30.267153,-97.7430608&sensor=false\n",
      "Information from URL : http://maps.googleapis.com/maps/api/geocode/json?latlng=42.3600825,-71.0588801&sensor=false\n",
      "Information from URL : http://maps.googleapis.com/maps/api/geocode/json?latlng=30.267153,-97.7430608&sensor=false\n"
     ]
    },
    {
     "name": "stdout",
     "output_type": "stream",
     "text": [
      "   MyData.longitude MyData.latitude ri.administrative_area_level_1\n",
      "1         -74.00594        40.71278                       New York\n",
      "2         -97.74306        30.26715                          Texas\n",
      "3         -97.85611        27.51587                          Texas\n",
      "5         -71.05888        42.36008                  Massachusetts\n",
      "6         -97.74306        30.26715                          Texas\n",
      "7         -97.74306        30.26715                          Texas\n",
      "8         -97.74306        30.26715                          Texas\n",
      "9         -71.44950        41.45008                   Rhode Island\n",
      "10        -71.05888        42.36008                  Massachusetts\n",
      "12        -71.07867        42.57509                  Massachusetts\n",
      "13        -97.74306        30.26715                          Texas\n",
      "14        -71.05888        42.36008                  Massachusetts\n",
      "15        -71.05888        42.36008                  Massachusetts\n",
      "16        -73.94416        40.67818                       New York\n",
      "17        -76.64127        39.04575                       Maryland\n",
      "19       -118.19374        33.77005                     California\n",
      "20        -78.47668        38.02931                       Virginia\n",
      "21        -97.74306        30.26715                          Texas\n",
      "23        -71.05888        42.36008                  Massachusetts\n",
      "24        -97.74306        30.26715                          Texas\n"
     ]
    }
   ],
   "source": [
    "result <- do.call(rbind,\n",
    "                  lapply(1:nrow(df.filtered),\n",
    "                         function(i){\n",
    "                          ri<-revgeocode(as.numeric(df.filtered[i,1:2]), output = \"more\")\n",
    "                             data.frame(ri$administrative_area_level_1,\n",
    "               stringsAsFactors=FALSE)\n",
    "                             }\n",
    "                           ))\n",
    "df.filtered <- cbind(df.filtered,result)\n",
    "print(df.filtered)"
   ]
  },
  {
   "cell_type": "code",
   "execution_count": 12,
   "metadata": {
    "collapsed": true
   },
   "outputs": [],
   "source": [
    "p <- df.filtered"
   ]
  },
  {
   "cell_type": "markdown",
   "metadata": {},
   "source": [
    "###### Group the data on bsis of the State name and find the count for each sub group"
   ]
  },
  {
   "cell_type": "code",
   "execution_count": 16,
   "metadata": {
    "collapsed": false
   },
   "outputs": [
    {
     "data": {
      "text/html": [
       "<table>\n",
       "<thead><tr><th scope=col>MyData.longitude</th><th scope=col>MyData.latitude</th><th scope=col>ri.administrative_area_level_1</th><th scope=col>Tweets_Density</th></tr></thead>\n",
       "<tbody>\n",
       "\t<tr><td>-118.19374   </td><td>33.77005     </td><td>California   </td><td>1            </td></tr>\n",
       "\t<tr><td> -76.64127   </td><td>39.04575     </td><td>Maryland     </td><td>1            </td></tr>\n",
       "\t<tr><td> -71.05888   </td><td>42.36008     </td><td>Massachusetts</td><td>6            </td></tr>\n",
       "\t<tr><td> -73.94416   </td><td>40.67818     </td><td>New York     </td><td>2            </td></tr>\n",
       "\t<tr><td> -71.44950   </td><td>41.45008     </td><td>Rhode Island </td><td>1            </td></tr>\n",
       "\t<tr><td> -97.74306   </td><td>30.26715     </td><td>Texas        </td><td>8            </td></tr>\n",
       "</tbody>\n",
       "</table>\n"
      ],
      "text/latex": [
       "\\begin{tabular}{r|llll}\n",
       " MyData.longitude & MyData.latitude & ri.administrative\\_area\\_level\\_1 & Tweets\\_Density\\\\\n",
       "\\hline\n",
       "\t -118.19374    & 33.77005      & California    & 1            \\\\\n",
       "\t  -76.64127    & 39.04575      & Maryland      & 1            \\\\\n",
       "\t  -71.05888    & 42.36008      & Massachusetts & 6            \\\\\n",
       "\t  -73.94416    & 40.67818      & New York      & 2            \\\\\n",
       "\t  -71.44950    & 41.45008      & Rhode Island  & 1            \\\\\n",
       "\t  -97.74306    & 30.26715      & Texas         & 8            \\\\\n",
       "\\end{tabular}\n"
      ],
      "text/markdown": [
       "\n",
       "MyData.longitude | MyData.latitude | ri.administrative_area_level_1 | Tweets_Density | \n",
       "|---|---|---|---|---|---|\n",
       "| -118.19374    | 33.77005      | California    | 1             | \n",
       "|  -76.64127    | 39.04575      | Maryland      | 1             | \n",
       "|  -71.05888    | 42.36008      | Massachusetts | 6             | \n",
       "|  -73.94416    | 40.67818      | New York      | 2             | \n",
       "|  -71.44950    | 41.45008      | Rhode Island  | 1             | \n",
       "|  -97.74306    | 30.26715      | Texas         | 8             | \n",
       "\n",
       "\n"
      ],
      "text/plain": [
       "  MyData.longitude MyData.latitude ri.administrative_area_level_1\n",
       "1 -118.19374       33.77005        California                    \n",
       "2  -76.64127       39.04575        Maryland                      \n",
       "3  -71.05888       42.36008        Massachusetts                 \n",
       "4  -73.94416       40.67818        New York                      \n",
       "5  -71.44950       41.45008        Rhode Island                  \n",
       "6  -97.74306       30.26715        Texas                         \n",
       "  Tweets_Density\n",
       "1 1             \n",
       "2 1             \n",
       "3 6             \n",
       "4 2             \n",
       "5 1             \n",
       "6 8             "
      ]
     },
     "metadata": {},
     "output_type": "display_data"
    }
   ],
   "source": [
    "grp_lat <- sqldf('SELECT *,count([ri.administrative_area_level_1]) as Tweets_Density FROM p GROUP BY [ri.administrative_area_level_1]')\n",
    "head(grp_lat)"
   ]
  },
  {
   "cell_type": "markdown",
   "metadata": {},
   "source": [
    "###### Plot the density values corresponding to state on US Map"
   ]
  },
  {
   "cell_type": "code",
   "execution_count": 17,
   "metadata": {
    "collapsed": false
   },
   "outputs": [
    {
     "data": {},
     "metadata": {},
     "output_type": "display_data"
    },
    {
     "data": {
      "image/png": "[encoded data removed]",
      "text/plain": [
       "plot without title"
      ]
     },
     "metadata": {},
     "output_type": "display_data"
    }
   ],
   "source": [
    "#load us map data\n",
    "all_states <- map_data(\"state\")\n",
    "#plot all states with ggplot\n",
    "p <- ggplot()\n",
    "p <- p + geom_polygon( data=all_states, aes(x=long, y=lat, group = group),colour=\"green\" )\n",
    "p <- p + geom_point( data=grp_lat, aes(x=grp_lat[[1]], y=grp_lat[[2]], size = 0.2*(grp_lat[[4]])), color=\"coral1\") + scale_size(name=\"Density of Tweets\")\n",
    "#p + geom_jitter( data=grp_lat, position=position_jitter(width=5, height=5), aes(x=grp_lat[[1]], y=grp_lat[[2]], size = 10*(grp_lat[[4]]),color=state)) + scale_size(name=\"Number of Tweets\")\n",
    "#p <- p + geom_text( data=grp_lat, hjust=0.5, vjust=-0.5, aes(x=long, y=lat, label=label), colour=\"gold2\", size=4 )\n",
    "p <- p + theme(panel.border = element_blank())\n",
    "p <- p + theme(panel.background = element_blank())\n",
    "p <- p + theme(axis.ticks = element_blank())\n",
    "p <- p + theme(axis.text = element_blank()) + coord_fixed(1.3)\n",
    "p"
   ]
  },
  {
   "cell_type": "code",
   "execution_count": null,
   "metadata": {
    "collapsed": true
   },
   "outputs": [],
   "source": []
  }
 ],
 "metadata": {
  "kernelspec": {
   "display_name": "R",
   "language": "R",
   "name": "ir"
  },
  "language_info": {
   "codemirror_mode": "r",
   "file_extension": ".r",
   "mimetype": "text/x-r-source",
   "name": "R",
   "pygments_lexer": "r",
   "version": "3.3.2"
  }
 },
 "nbformat": 4,
 "nbformat_minor": 2
}
